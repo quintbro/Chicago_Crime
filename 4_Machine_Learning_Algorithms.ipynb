{
 "cells": [
  {
   "cell_type": "markdown",
   "metadata": {},
   "source": [
    "# Implementing 4 Standard Machine Learning Algorithms"
   ]
  },
  {
   "cell_type": "markdown",
   "metadata": {},
   "source": [
    "## Imports"
   ]
  },
  {
   "cell_type": "code",
   "execution_count": 79,
   "metadata": {},
   "outputs": [],
   "source": [
    "import pandas as pd\n",
    "import numpy as np\n",
    "from datetime import datetime\n",
    "\n",
    "from sklearn.ensemble import RandomForestClassifier\n",
    "from sklearn.neighbors import KNeighborsClassifier\n",
    "from sklearn.svm import SVC\n",
    "from sklearn.naive_bayes import GaussianNB\n",
    "from sklearn.model_selection import train_test_split\n",
    "from sklearn.metrics import classification_report\n",
    "from sklearn.impute import SimpleImputer"
   ]
  },
  {
   "cell_type": "markdown",
   "metadata": {},
   "source": [
    "## Data Cleaning and Processing"
   ]
  },
  {
   "cell_type": "code",
   "execution_count": 11,
   "metadata": {},
   "outputs": [],
   "source": [
    "crimes = pd.read_csv(\"data/Crimes.csv\").drop([\"Unnamed: 0\", \"ID\", \"Case Number\", \"Description\", \"Block\",\n",
    "                                              \"Location Description\", \"X Coordinate\", \"Y Coordinate\", \"IUCR\",\n",
    "                                              \"Year\", \"Updated On\", \"Location\", \"District\", \"FBI Code\"], axis = 1)"
   ]
  },
  {
   "cell_type": "code",
   "execution_count": 20,
   "metadata": {},
   "outputs": [],
   "source": [
    "crimes[\"Date\"] = crimes[\"Date\"].apply(lambda x : datetime.strptime(x, \"%m/%d/%Y %I:%M:%S %p\"))"
   ]
  },
  {
   "cell_type": "code",
   "execution_count": 31,
   "metadata": {},
   "outputs": [],
   "source": [
    "crimes[\"hour\"] = crimes[\"Date\"].apply(lambda x : x.hour)\n",
    "\n",
    "crimes[\"Time_Day\"] = crimes[\"hour\"] \\\n",
    "    .mask((crimes[\"hour\"] < 4), \"12am-4am\") \\\n",
    "    .mask((crimes[\"hour\"] <= 8) & (crimes[\"hour\"] > 4), \"4am-8am\") \\\n",
    "    .mask((crimes[\"hour\"] <= 12) & (crimes[\"hour\"] > 8), \"8am-12pm\") \\\n",
    "    .mask((crimes[\"hour\"] <= 16) & (crimes[\"hour\"] > 12), \"12pm-4pm\") \\\n",
    "    .mask((crimes[\"hour\"] <= 20) & (crimes[\"hour\"] > 16), \"4pm-8pm\") \\\n",
    "    .mask((crimes[\"hour\"] <= 24) & (crimes[\"hour\"] > 20), \"8pm-12am\")"
   ]
  },
  {
   "cell_type": "code",
   "execution_count": 39,
   "metadata": {},
   "outputs": [],
   "source": [
    "crimes[\"Community Area\"] = crimes[\"Community Area\"].apply(lambda x : str(x))\n",
    "crimes[\"Beat\"] = crimes[\"Beat\"].apply(lambda x : str(x))\n",
    "crimes[\"Ward\"] = crimes[\"Ward\"].apply(lambda x : str(int(x)))\n",
    "crimes.drop(\"hour\", axis=1, inplace=True)"
   ]
  },
  {
   "cell_type": "code",
   "execution_count": 63,
   "metadata": {},
   "outputs": [],
   "source": [
    "violent_crimes = [\"HOMICIDE\", \"BATTERY\", \"CRIM SEXUAL ASSAULT\", \"CRIMINAL SEXUAL ASSAULT\",\n",
    "                  \"ASSAULT\", \"ROBBERY\", \"HUMAN TRAFFICKING\"]\n",
    "\n",
    "crimes[\"is_violent\"] = crimes[\"Primary Type\"].apply(lambda x : True if x in violent_crimes else False)"
   ]
  },
  {
   "cell_type": "code",
   "execution_count": 82,
   "metadata": {},
   "outputs": [],
   "source": [
    "final_data = pd.get_dummies(crimes.drop([\"Date\", \"Primary Type\", \"Arrest\"], axis = 1))\n",
    "X = final_data.drop(\"is_violent\", axis=1)\n",
    "y = final_data[\"is_violent\"]"
   ]
  },
  {
   "cell_type": "code",
   "execution_count": 83,
   "metadata": {},
   "outputs": [],
   "source": [
    "imputer = SimpleImputer(strategy=\"mean\")\n",
    "X = imputer.fit_transform(X)"
   ]
  },
  {
   "cell_type": "code",
   "execution_count": 84,
   "metadata": {},
   "outputs": [],
   "source": [
    "X_train, X_test, y_train, y_test = train_test_split(X, y)"
   ]
  },
  {
   "cell_type": "markdown",
   "metadata": {},
   "source": [
    "## Random Forest"
   ]
  },
  {
   "cell_type": "code",
   "execution_count": 86,
   "metadata": {},
   "outputs": [
    {
     "name": "stdout",
     "output_type": "stream",
     "text": [
      "              precision    recall  f1-score   support\n",
      "\n",
      "       False       0.77      0.82      0.80     44612\n",
      "        True       0.56      0.48      0.51     20851\n",
      "\n",
      "    accuracy                           0.71     65463\n",
      "   macro avg       0.66      0.65      0.65     65463\n",
      "weighted avg       0.70      0.71      0.71     65463\n",
      "\n"
     ]
    }
   ],
   "source": [
    "rf = RandomForestClassifier()\n",
    "rf.fit(X_train, y_train)\n",
    "preds = rf.predict(X_test)\n",
    "print(classification_report(y_test, preds))"
   ]
  },
  {
   "cell_type": "markdown",
   "metadata": {},
   "source": [
    "## KNN"
   ]
  },
  {
   "cell_type": "code",
   "execution_count": 85,
   "metadata": {},
   "outputs": [
    {
     "name": "stdout",
     "output_type": "stream",
     "text": [
      "              precision    recall  f1-score   support\n",
      "\n",
      "       False       0.78      0.85      0.81     44612\n",
      "        True       0.59      0.48      0.53     20851\n",
      "\n",
      "    accuracy                           0.73     65463\n",
      "   macro avg       0.68      0.66      0.67     65463\n",
      "weighted avg       0.72      0.73      0.72     65463\n",
      "\n"
     ]
    }
   ],
   "source": [
    "knn = KNeighborsClassifier()\n",
    "knn.fit(X_train, y_train)\n",
    "preds = knn.predict(X_test)\n",
    "print(classification_report(y_test, preds))"
   ]
  },
  {
   "cell_type": "markdown",
   "metadata": {},
   "source": [
    "## Naive Bayes"
   ]
  },
  {
   "cell_type": "code",
   "execution_count": 87,
   "metadata": {},
   "outputs": [
    {
     "name": "stdout",
     "output_type": "stream",
     "text": [
      "              precision    recall  f1-score   support\n",
      "\n",
      "       False       0.50      0.00      0.00     44612\n",
      "        True       0.32      1.00      0.48     20851\n",
      "\n",
      "    accuracy                           0.32     65463\n",
      "   macro avg       0.41      0.50      0.24     65463\n",
      "weighted avg       0.44      0.32      0.15     65463\n",
      "\n"
     ]
    }
   ],
   "source": [
    "nb = GaussianNB()\n",
    "nb.fit(X_train, y_train)\n",
    "preds = nb.predict(X_test)\n",
    "print(classification_report(y_test, preds))"
   ]
  },
  {
   "cell_type": "markdown",
   "metadata": {},
   "source": [
    "## Support Vector Machine"
   ]
  },
  {
   "cell_type": "code",
   "execution_count": 88,
   "metadata": {},
   "outputs": [],
   "source": [
    "svm = SVC()\n",
    "svm.fit(X_train, y_train)\n",
    "preds = svm.predict(X_test)\n",
    "print(classification_report(y_test, preds))"
   ]
  },
  {
   "cell_type": "markdown",
   "metadata": {},
   "source": [
    "## Summary"
   ]
  },
  {
   "cell_type": "markdown",
   "metadata": {},
   "source": [
    "As we can see from these Model results, just using untuned models, the K Nearest Neighbors performs best when trying to assess whether or not the crime was considered a violent crime. The benefit of using a model like a Random Forest, is that you get automatic feature importances so, although the Random Forest did not perform as well, I would use the Random Forest over the KNN because the model tells us more about the data."
   ]
  }
 ],
 "metadata": {
  "kernelspec": {
   "display_name": "statistics",
   "language": "python",
   "name": "python3"
  },
  "language_info": {
   "codemirror_mode": {
    "name": "ipython",
    "version": 3
   },
   "file_extension": ".py",
   "mimetype": "text/x-python",
   "name": "python",
   "nbconvert_exporter": "python",
   "pygments_lexer": "ipython3",
   "version": "3.12.2"
  }
 },
 "nbformat": 4,
 "nbformat_minor": 2
}
